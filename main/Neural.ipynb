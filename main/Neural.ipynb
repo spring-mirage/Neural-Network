{
  "cells": [
    {
      "cell_type": "markdown",
      "metadata": {
        "id": "view-in-github",
        "colab_type": "text"
      },
      "source": [
        "<a href=\"https://colab.research.google.com/github/spring-mirage/Neural-Network/blob/main/main/Neural.ipynb\" target=\"_parent\"><img src=\"https://colab.research.google.com/assets/colab-badge.svg\" alt=\"Open In Colab\"/></a>"
      ]
    },
    {
      "cell_type": "code",
      "source": [
        "import tensorflow as tf\n",
        "import numpy as np"
      ],
      "metadata": {
        "id": "PhZfRSEUldgP"
      },
      "execution_count": 9,
      "outputs": []
    },
    {
      "cell_type": "code",
      "source": [
        "celsius = np.array([-40, -10, 0, 8, 15, 22, 38], dtype=float)\n",
        "fahrenheit = np.array([-40, 14, 32, 46, 59, 72, 100], dtype=float)"
      ],
      "metadata": {
        "id": "SMc1IPARo_wF"
      },
      "execution_count": 10,
      "outputs": []
    },
    {
      "cell_type": "code",
      "source": [
        "layer = tf.keras.layers.Dense(units=1, input_shape=[1])\n",
        "model = tf.keras.Sequential([layer])\n",
        "\n",
        "hidden1 = tf.keras.layers.Dense(units=3, input_shape=[1])\n",
        "hidden2 = tf.keras.layers.Dense(units=3)\n",
        "out = tf.keras.layers.Dense(units=1)\n",
        "model = tf.keras.Sequential([hidden1, hidden2, out])"
      ],
      "metadata": {
        "colab": {
          "base_uri": "https://localhost:8080/"
        },
        "id": "o0N-OGdVpBd3",
        "outputId": "8b91ce76-07df-4d56-ca44-ca39f55144b0"
      },
      "execution_count": 23,
      "outputs": [
        {
          "output_type": "stream",
          "name": "stderr",
          "text": [
            "/usr/local/lib/python3.11/dist-packages/keras/src/layers/core/dense.py:87: UserWarning: Do not pass an `input_shape`/`input_dim` argument to a layer. When using Sequential models, prefer using an `Input(shape)` object as the first layer in the model instead.\n",
            "  super().__init__(activity_regularizer=activity_regularizer, **kwargs)\n"
          ]
        }
      ]
    },
    {
      "cell_type": "code",
      "source": [
        "model.compile(\n",
        "    optimizer=tf.keras.optimizers.Adam(0.1),\n",
        "    loss='mean_squared_error'\n",
        ")"
      ],
      "metadata": {
        "id": "vcgKftPxp-Rj"
      },
      "execution_count": 24,
      "outputs": []
    },
    {
      "cell_type": "code",
      "source": [
        "print(\"Starting training\")\n",
        "history = model.fit(celsius, fahrenheit, epochs=500, verbose=False)\n",
        "print(\"Finished training\")"
      ],
      "metadata": {
        "colab": {
          "base_uri": "https://localhost:8080/"
        },
        "id": "aG0nxARRrUmN",
        "outputId": "49a749a5-717c-4f99-a70f-db80390a8949"
      },
      "execution_count": 25,
      "outputs": [
        {
          "output_type": "stream",
          "name": "stdout",
          "text": [
            "Starting training\n",
            "Finished training\n"
          ]
        }
      ]
    },
    {
      "cell_type": "code",
      "source": [
        "import matplotlib.pyplot as plt\n",
        "plt.xlabel('Epoch Number')\n",
        "plt.ylabel(\"Loss Magnitude\")\n",
        "plt.plot(history.history['loss'])"
      ],
      "metadata": {
        "colab": {
          "base_uri": "https://localhost:8080/",
          "height": 466
        },
        "id": "FOHVhDJSrlUc",
        "outputId": "fb87d70f-6fa7-4171-fda4-cc3f86791b59"
      },
      "execution_count": 26,
      "outputs": [
        {
          "output_type": "execute_result",
          "data": {
            "text/plain": [
              "[<matplotlib.lines.Line2D at 0x7c6de1f7a6d0>]"
            ]
          },
          "metadata": {},
          "execution_count": 26
        },
        {
          "output_type": "display_data",
          "data": {
            "text/plain": [
              "<Figure size 640x480 with 1 Axes>"
            ],
            "image/png": "[encoded data removed]"
          },
          "metadata": {}
        }
      ]
    },
    {
      "cell_type": "code",
      "source": [
        "print(\"make a prediction\")\n",
        "result = model.predict(np.array([100.0]))\n",
        "print(\"result: \" + str(result) + \"Fahrenheit\")"
      ],
      "metadata": {
        "colab": {
          "base_uri": "https://localhost:8080/"
        },
        "id": "zqVHFdoer10M",
        "outputId": "791e0bda-5366-475e-b43e-61b3bdb9eb42"
      },
      "execution_count": 27,
      "outputs": [
        {
          "output_type": "stream",
          "name": "stdout",
          "text": [
            "make a prediction\n",
            "\u001b[1m1/1\u001b[0m \u001b[32m━━━━━━━━━━━━━━━━━━━━\u001b[0m\u001b[37m\u001b[0m \u001b[1m0s\u001b[0m 81ms/step\n",
            "result: [[211.74747]]Fahrenheit\n"
          ]
        }
      ]
    },
    {
      "cell_type": "code",
      "source": [
        "print(\"Intern Var of model\")\n",
        "print(layer.get_weights())\n",
        "print(hidden1.get_weights())\n",
        "print(hidden2.get_weights())\n",
        "print(out.get_weights())"
      ],
      "metadata": {
        "colab": {
          "base_uri": "https://localhost:8080/"
        },
        "id": "0iAIRSdJzY7n",
        "outputId": "5fe6fe9e-8aad-4060-dfa6-31ffbefb7d5c"
      },
      "execution_count": 29,
      "outputs": [
        {
          "output_type": "stream",
          "name": "stdout",
          "text": [
            "Intern Var of model\n",
            "[array([[-0.07287633]], dtype=float32), array([0.], dtype=float32)]\n",
            "[array([[-0.04997191,  0.70208645, -0.37054753]], dtype=float32), array([-3.4866066,  3.689811 ,  1.5619949], dtype=float32)]\n",
            "[array([[-1.608931  ,  0.16489647,  0.25020462],\n",
            "       [ 1.2089952 , -1.1677604 ,  0.23084913],\n",
            "       [ 0.08636806, -0.67250365,  0.5566812 ]], dtype=float32), array([ 3.612353 , -3.6779592, -1.0834646], dtype=float32)]\n",
            "[array([[ 1.3075664 ],\n",
            "       [-1.0882139 ],\n",
            "       [ 0.09178117]], dtype=float32), array([3.4461095], dtype=float32)]\n"
          ]
        }
      ]
    }
  ],
  "metadata": {
    "colab": {
      "name": "beginner.ipynb",
      "provenance": [],
      "include_colab_link": true
    },
    "kernelspec": {
      "display_name": "Python 3",
      "name": "python3"
    }
  },
  "nbformat": 4,
  "nbformat_minor": 0
}